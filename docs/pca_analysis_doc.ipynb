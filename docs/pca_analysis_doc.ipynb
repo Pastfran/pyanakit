{
 "cells": [
  {
   "cell_type": "markdown",
   "id": "a4527c9a-c8bd-4be1-be4e-3aba0af8f7ed",
   "metadata": {},
   "source": [
    "# Developer Handbook - PCA_analysis.py\n",
    "- modul contains a function to compute and plot PCA analysis from a data set selected by user/GUI\n",
    "- list of functions:\n",
    "    - perform_pca()\n",
    "## Packages "
   ]
  },
  {
   "cell_type": "code",
   "execution_count": null,
   "id": "fed42cd2-04f5-48be-8a83-462b96d1356d",
   "metadata": {},
   "outputs": [],
   "source": [
    "from tkinter import messagebox\n",
    "from sklearn.decomposition import PCA\n",
    "from sklearn.preprocessing import StandardScaler\n",
    "import matplotlib.pyplot as plt\n",
    "import seaborn as sns\n",
    "import pandas as pd"
   ]
  },
  {
   "cell_type": "markdown",
   "id": "5ff0655d-b5c5-42c9-b3a2-22d060c84e39",
   "metadata": {},
   "source": [
    "## Function - perform_pca()\n",
    "- parameter: data (contains data to cumpute PCA) with accsseion column \n",
    "1. check for data, otherwise errormessage via messagebox\n",
    "- function actions embedded in `try:`/`except:` - block\n",
    "    -expcept shows errormessage depending on error in console and with a messagebox\n",
    "2. entries of datatype \"numbers\" in dataframe are selected and NaN are droped and result-dataframe is saved \n",
    "    - if new dataframe is empty an error message is shown via messagebox\n",
    "3. creation of standardized data and saving into new variable: `StandardScaler()` creates a new object in which `fit_transform()` is used to learn and to transform the new data set\n",
    "4. PCA-object with 2 components is initialised and used in the `fit_transform()` function to learn (calculate the two components) and transform (project data onto 2 components to reduce them) the data and create a pca_result\n",
    "5. a dataframe of the pca_resul data ist created with columns \"Accession\", \"Principal Component 1\" and \"Principal Component 2\"\n",
    "6. plotting the pca result based on the pca-dataframe with sns.scatterplot from `seaborn`"
   ]
  },
  {
   "cell_type": "code",
   "execution_count": null,
   "id": "3cdbef04-3261-4ae3-ac7b-f2677c249621",
   "metadata": {},
   "outputs": [],
   "source": [
    "def perform_pca(data):\n",
    "    if data is None:\n",
    "        messagebox.showerror(\"Error\", \"Please select a file and load data first.\")\n",
    "\n",
    "    try:\n",
    "        # Drop non-numeric columns and handle NaNs\n",
    "        numeric_data = data.select_dtypes(include=['number']).dropna()\n",
    "        \n",
    "        # Überprüfen, ob Daten nach Bereinigung existieren\n",
    "        if numeric_data.empty:\n",
    "           print(\"Bereinigter Datensatz ist leer, keine Daten für PCA verfügbar.\")\n",
    "           messagebox.showerror(\"Error\", \"No numeric data available for PCA after cleaning.\")\n",
    "           return None\n",
    "        \n",
    "        # Standardize the data\n",
    "        standardized_data = StandardScaler().fit_transform(numeric_data)\n",
    "        \n",
    "        # Perform PCA\n",
    "        pca = PCA(n_components=2)\n",
    "        pca_result = pca.fit_transform(standardized_data)\n",
    "\n",
    "        # Create a DataFrame for PCA results\n",
    "        pca_df = pd.DataFrame(data=pca_result, columns=['Principal Component 1', 'Principal Component 2'])\n",
    "        pca_df['Accession'] = data['Accession']  # Add Accession back for labeling\n",
    "\n",
    "        # Plot PCA results\n",
    "        plt.figure(figsize=(10, 6))\n",
    "        sns.scatterplot(x='Principal Component 1', y='Principal Component 2', data=pca_df)\n",
    "        plt.title('PCA of Data')\n",
    "        plt.xlabel('Principal Component 1')\n",
    "        plt.ylabel('Principal Component 2')\n",
    "                \n",
    "        plt.tight_layout()\n",
    "        plt.show()\n",
    "    \n",
    "    except Exception as e:\n",
    "        print(f\"Exception during PCA: {e}\")  # Debugging-Ausgabe\n",
    "        messagebox.showerror(\"Error\", f\"An error occurred during PCA: {str(e)}\")\n",
    "        "
   ]
  }
 ],
 "metadata": {
  "kernelspec": {
   "display_name": "Python 3 (ipykernel)",
   "language": "python",
   "name": "python3"
  },
  "language_info": {
   "codemirror_mode": {
    "name": "ipython",
    "version": 3
   },
   "file_extension": ".py",
   "mimetype": "text/x-python",
   "name": "python",
   "nbconvert_exporter": "python",
   "pygments_lexer": "ipython3",
   "version": "3.12.4"
  }
 },
 "nbformat": 4,
 "nbformat_minor": 5
}
