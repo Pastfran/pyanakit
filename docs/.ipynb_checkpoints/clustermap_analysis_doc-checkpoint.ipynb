{
 "cells": [
  {
   "cell_type": "markdown",
   "id": "6ef280c6-58d5-42a9-ab31-b26c232ec2c1",
   "metadata": {},
   "source": [
    "# Developer Handbook - Clustermap_analysis.py\n",
    "- modul to plot a clustermap from a dataset selected by user/GUI\n",
    "- function list:\n",
    "    - plot_clustermap()\n",
    "## Packages"
   ]
  },
  {
   "cell_type": "code",
   "execution_count": null,
   "id": "f25e9c2d-2644-49fd-a3b8-32792b119d58",
   "metadata": {},
   "outputs": [],
   "source": [
    "import matplotlib.pyplot as plt\n",
    "import seaborn as sns "
   ]
  },
  {
   "cell_type": "markdown",
   "id": "fda1f15d-11be-4f66-81fe-f2805fb21032",
   "metadata": {},
   "source": [
    "## Function - plot_clustermap \n",
    "- parameter: data, method, cmap, width, height, font_size, line_thickness, dendro_line_thickness\n",
    "1. clear current figure\n",
    "2. setting a size according to input parameter for global font in Seaborn\n",
    "3. generating the clustermap with seaborn, asscession as index, metric=\"euclidian\", cbar=True and according to the other given parameter during the function call\n",
    "4. setting the dendrogramm-line thickness for the rows and columns\n",
    "5. plotting and showing the final clustermap with matplotlib; title, axis labels added   "
   ]
  },
  {
   "cell_type": "code",
   "execution_count": null,
   "id": "9a58c4ae-4e6e-462a-b915-dcf5531c8013",
   "metadata": {},
   "outputs": [],
   "source": [
    "def plot_clustermap(\n",
    "        data,\n",
    "        method = 'average', #guessed default value, original: cluster_method_var.get()\n",
    "        cmap = 'viridis', #guessed default value, original: color_map_var.get()\n",
    "        width = 10, \n",
    "        height = 8, \n",
    "        font_size = 1, \n",
    "        line_thickness = 0.1, \n",
    "        dendro_line_thickness = 0.5\n",
    "        ):\n",
    "      \n",
    "    plt.clf()  # Clear the current figure\n",
    "    sns.set(font_scale=font_size)\n",
    "\n",
    "    # Generate clustermap\n",
    "    g = sns.clustermap(data.set_index('Accession'), method=method, metric='euclidean', cmap=cmap, cbar=True, \n",
    "                       figsize=(width, height), linewidths=line_thickness)\n",
    "    \n",
    "    # Adjust the line thickness of the dendrogram\n",
    "    for d in g.ax_row_dendrogram.collections:\n",
    "        d.set_linewidth(dendro_line_thickness)\n",
    "    for d in g.ax_col_dendrogram.collections:\n",
    "        d.set_linewidth(dendro_line_thickness)\n",
    "    \n",
    "    #plotting \n",
    "    plt.title(f'Heatmap with Dendrogram (Method: {method}, Color Map: {cmap})', fontsize=font_size * 10)\n",
    "    plt.xlabel('Samples', fontsize=font_size * 8)  \n",
    "    plt.ylabel('Features', fontsize=font_size * 8) \n",
    "    plt.tight_layout()\n",
    "    plt.show()"
   ]
  }
 ],
 "metadata": {
  "kernelspec": {
   "display_name": "Python 3 (ipykernel)",
   "language": "python",
   "name": "python3"
  },
  "language_info": {
   "codemirror_mode": {
    "name": "ipython",
    "version": 3
   },
   "file_extension": ".py",
   "mimetype": "text/x-python",
   "name": "python",
   "nbconvert_exporter": "python",
   "pygments_lexer": "ipython3",
   "version": "3.12.4"
  }
 },
 "nbformat": 4,
 "nbformat_minor": 5
}
