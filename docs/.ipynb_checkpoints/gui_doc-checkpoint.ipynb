{
 "cells": [
  {
   "cell_type": "markdown",
   "id": "6427ef9a-0034-4791-b635-a49189c08536",
   "metadata": {},
   "source": [
    "# Developer Handbook - Gui.py \n",
    "- main modul for pyanakit\n",
    "- modul creates the graphical user interface and connects to other (sub)modules \n",
    "- consists of buttons, labels and option menues for the user to be able to\n",
    "    - select data table for visualisation  \n",
    "    - select treatment1 oder treatment2 on which the comparison should be made  \n",
    "    - choose between seven different plots\n",
    "    - PCA-Clustering and Clustermap display\n",
    "- list of functions:\n",
    "    - select_file()\n",
    "    - process_data_from_gui()\n",
    "    - pca_analysis_from_gui()\n",
    "    - plot_clustermap_from_gui()\n",
    "## Packages"
   ]
  },
  {
   "cell_type": "code",
   "execution_count": null,
   "id": "65a7197b-6dee-46e8-be75-1482d72f6e1d",
   "metadata": {},
   "outputs": [],
   "source": [
    "from tkinter import Tk, Label, Button, StringVar, OptionMenu, LabelFrame, messagebox\n",
    "from data_processing import process_data\n",
    "from pca_analysis import perform_pca\n",
    "from clustermap_analysis import plot_clustermap\n",
    "from utils import select_file_path, load_clean"
   ]
  },
  {
   "cell_type": "markdown",
   "id": "54033552-f7ca-4013-a627-5d974b746511",
   "metadata": {},
   "source": [
    "## Function - select_file()\n",
    "- no paramerter\n",
    "- global variables: file_path, loaded_data\n",
    "1. file_path set via module utils.py, function select_file_path()\n",
    "2. if file_path is present: path will be printed on GUI label, data from file path is loaded and cleaned via load_clean() function from utils.py \n",
    "3. if file_path none: error message printed in console"
   ]
  },
  {
   "cell_type": "code",
   "execution_count": null,
   "id": "843db8d1-f972-4853-956d-a535e3782946",
   "metadata": {},
   "outputs": [],
   "source": [
    "def select_file():\n",
    "    global file_path, loaded_data\n",
    "    file_path = select_file_path() \n",
    "    \n",
    "    if file_path:\n",
    "        file_path_var.set(file_path)  # Update displayed file path\n",
    "        loaded_data = load_clean(file_path)\n",
    "        if loaded_data is None: \n",
    "            print(\"Failed to load data.\")"
   ]
  },
  {
   "cell_type": "markdown",
   "id": "3d5761ca-358c-485e-beac-ed1267aa11e2",
   "metadata": {},
   "source": [
    "## Creating window for GUI \n",
    "- title, dimensions and variables for widgets are set, default values are given  "
   ]
  },
  {
   "cell_type": "code",
   "execution_count": null,
   "id": "4c1a4451-3bc3-49b0-bcfe-fc73300b670e",
   "metadata": {},
   "outputs": [],
   "source": [
    "#create window \n",
    "root = Tk()\n",
    "root.title(\"Data Analysis Tool\")\n",
    "root.geometry(\"600x300\")\n",
    "#set default values\n",
    "file_path_var = StringVar()\n",
    "plot_type_var = StringVar(value=\"Violin Plot\")  # Default plot type\n",
    "treatment_var = StringVar(value=\"Treatment2\")  # Default treatment to compare\n",
    "cluster_method_var = StringVar(value=\"average\")  # Default clustering method\n",
    "color_map_var = StringVar(value=\"viridis\")  # Default color map"
   ]
  },
  {
   "cell_type": "markdown",
   "id": "6ea7a476-c460-4082-8230-d7e056c7a65e",
   "metadata": {},
   "source": [
    "## Function - process_data_from_gui\n",
    "- no parameter\n",
    "1. global variable: loaded_data\n",
    "2. checking if data was loaded (loaded_data is none, or not in globals())\n",
    "   - true: messagebox error and stopping function with empty return message\n",
    "   - else: process_data() from processing_data.py is triggered with loaded_data, plot_type and treatment_to_compare information"
   ]
  },
  {
   "cell_type": "code",
   "execution_count": null,
   "id": "1e0d240e-6b44-4ecd-b94e-b8319f410074",
   "metadata": {},
   "outputs": [],
   "source": [
    "def process_data_from_gui():\n",
    "    global loaded_data\n",
    "    # Überprüfen, ob die Datei geladen wurde\n",
    "    if 'loaded_data' not in globals() or loaded_data is None:\n",
    "        messagebox.showerror(\"Error\", \"Please select a file before processing data.\")\n",
    "        return  # Funktion abbrechen, falls keine Datei geladen ist\n",
    "    else: \n",
    "        process_data(data=loaded_data, plot_type=plot_type_var.get(), treatment_to_compare=treatment_var.get())"
   ]
  },
  {
   "cell_type": "markdown",
   "id": "4a838168-f130-4c36-a07c-c757be153289",
   "metadata": {},
   "source": [
    "## Function - pca_analysis_from_gui()\n",
    "- no parameter\n",
    "1. global: loaded_data\n",
    "2. checking if data was loaded (loaded_data is none, or not in globals())\n",
    "   - true: messagebox error and stopping function with empty return message\n",
    "   - else: calling perform_pca() function from pca_analysis.py modul with loaded_data as parameter"
   ]
  },
  {
   "cell_type": "code",
   "execution_count": null,
   "id": "8ecc0ec7-42b1-4478-9631-5b7c5ef24dff",
   "metadata": {},
   "outputs": [],
   "source": [
    "def pca_analysis_from_gui(): \n",
    "    global loaded_data\n",
    "    # Überprüfen, ob die Datei geladen wurde\n",
    "    if 'loaded_data' not in globals() or loaded_data is None:\n",
    "        messagebox.showerror(\"Error\", \"Please select a file before processing data.\")\n",
    "        return  # Funktion abbrechen, falls keine Datei geladen ist\n",
    "    else:\n",
    "        perform_pca(data=loaded_data)"
   ]
  },
  {
   "cell_type": "markdown",
   "id": "939773e9-4941-4f12-b313-8bc1f18c4e52",
   "metadata": {},
   "source": [
    "## Function - plot_clustermap_from_gui()\n",
    "- no parameter\n",
    "1. global: loaded data\n",
    "2. checking if data was loaded (loaded_data is none, or not in globals())\n",
    "   - true: messagebox error and stopping function with empty return message\n",
    "   - else: calling plot_clustermap_from_gui() function from clustermap_analysis.py modul with loaded_data as parameter"
   ]
  },
  {
   "cell_type": "code",
   "execution_count": null,
   "id": "91fbdede-a4b5-43fe-9346-eb8060ce4636",
   "metadata": {},
   "outputs": [],
   "source": [
    "def plot_clustermap_from_gui():\n",
    "    global loaded_data\n",
    "    # Überprüfen, ob die Datei geladen wurde\n",
    "    if 'loaded_data' not in globals() or loaded_data is None:\n",
    "        messagebox.showerror(\"Error\", \"Please select a file before processing data.\")\n",
    "        return  # Funktion abbrechen, falls keine Datei geladen ist\n",
    "    else:\n",
    "        plot_clustermap(data=loaded_data)"
   ]
  },
  {
   "cell_type": "markdown",
   "id": "684aca06-f1ac-4527-9f54-4c2fbf1e59f8",
   "metadata": {},
   "source": [
    "## Preparing widgets placing on GUI to ensure relativ window/widget size"
   ]
  },
  {
   "cell_type": "code",
   "execution_count": null,
   "id": "0bd183f8-69b1-4f61-b35a-a0d43af9c8b9",
   "metadata": {},
   "outputs": [],
   "source": [
    "root.grid_rowconfigure(0, weight=1)\n",
    "root.grid_rowconfigure(1, weight=1)\n",
    "root.grid_rowconfigure(2, weight=1)\n",
    "root.grid_rowconfigure(3, weight=1)\n",
    "root.grid_rowconfigure(4, weight=1)\n",
    "root.grid_rowconfigure(5, weight=1)\n",
    "root.grid_rowconfigure(6, weight=1)\n",
    "root.grid_columnconfigure(0, weight=1)\n",
    "root.grid_columnconfigure(1, weight=2)\n",
    "root.grid_columnconfigure(2, weight=1)"
   ]
  },
  {
   "cell_type": "markdown",
   "id": "b6ef97cc-3836-4c89-9366-95e800438b3e",
   "metadata": {},
   "source": [
    "##  Creating widgets and placing them with .grid()\n",
    "### File choosing widgets \n",
    "- label for selecting file-request\n",
    "- label for printing file path of selected file\n",
    "- button to trigger select_file() function"
   ]
  },
  {
   "cell_type": "code",
   "execution_count": null,
   "id": "ed0f3895-2794-467f-9dbb-bced1c8778fc",
   "metadata": {},
   "outputs": [],
   "source": [
    "label = Label(root, text=\"Selected file:\")\n",
    "label.grid(row=0, column=0, padx=5, pady=5, sticky='w')\n",
    "\n",
    "file_path_entry = Label(root, textvariable=file_path_var, wraplength=400, bg =\"ghostwhite\")\n",
    "file_path_entry.grid(row=0, column=1, columnspan=2, padx=5, pady=5, sticky='ew')\n",
    "\n",
    "select_file_button = Button(root, text=\"Select File\", command=select_file)\n",
    "select_file_button.grid(row=1, column=2, padx=5, pady=5, sticky='e')"
   ]
  },
  {
   "cell_type": "markdown",
   "id": "34b70382-5e17-4c19-a0cf-060dab99d8d4",
   "metadata": {},
   "source": [
    "### Option menus\n",
    "- label for selecting Plot Type-request\n",
    "- option menu with seven differen plot-option to choose from\n",
    "- label for selecting treatment which should be compared-request\n",
    "- option menu with 2 differen treatments_to_compare options to choose from"
   ]
  },
  {
   "cell_type": "code",
   "execution_count": null,
   "id": "34541ba6-6ec6-463a-b1db-0809ce3fb294",
   "metadata": {},
   "outputs": [],
   "source": [
    "# Label and dropdown menu for plot types\n",
    "plot_type_label = Label(root, text=\"Select Plot Type:\")\n",
    "plot_type_label.grid(row=2, column=0, padx=5, pady=5, sticky='w')\n",
    "\n",
    "plot_type_menu = OptionMenu(root, plot_type_var, \n",
    "                             \"Violin Plot\", \n",
    "                             \"Box Plot\", \n",
    "                             \"Bar Plot\", \n",
    "                             #\"Scatter Plot\", \n",
    "                             \"Line Plot\", \n",
    "                             #\"Strip Plot\", \n",
    "                             \"Histogram\", \n",
    "                             \"Swarm Plot\", \n",
    "                             \"Heatmap\")  \n",
    "plot_type_menu.grid(row=2, column=1, columnspan=2, padx=5, pady=5, sticky='ew')\n",
    "\n",
    "# Label and dropdown menu for selecting treatment to compare\n",
    "treatment_label = Label(root, text=\"Select Treatment to Compare:\")\n",
    "treatment_label.grid(row=3, column=0, padx=5, pady=5, sticky='w') \n",
    "\n",
    "treatment_menu = OptionMenu(root, treatment_var, \"Treatment1\", \"Treatment2\")\n",
    "treatment_menu.grid(row=3, column=1, columnspan=2, padx=5, pady=5, sticky='ew')"
   ]
  },
  {
   "cell_type": "markdown",
   "id": "4c17fef6-cab2-4530-b082-10e3f373bfa8",
   "metadata": {},
   "source": [
    "### Process_data button \n",
    "- button triggers process_data_from_gui() function "
   ]
  },
  {
   "cell_type": "code",
   "execution_count": null,
   "id": "7605fa13-01e1-47b7-b3ad-cead2f984015",
   "metadata": {},
   "outputs": [],
   "source": [
    "# Button to process data and generate plots\n",
    "process_button = Button(root, text=\"Process Data and Generate Plots\", command=process_data_from_gui)\n",
    "process_button.grid(row=4, column=1, columnspan=2, padx=5, pady=5, sticky='ew')  "
   ]
  },
  {
   "cell_type": "markdown",
   "id": "dbeb8305-53b0-4150-bd6c-622b10dc3b93",
   "metadata": {},
   "source": [
    "### Labelframe \"Advanced insights\" to visually seperate pca and clustermap functions \n",
    "- placed with .grid()\n",
    "- two columns set"
   ]
  },
  {
   "cell_type": "code",
   "execution_count": null,
   "id": "7a2b36c0-7387-4482-b515-616a1ce9bd8f",
   "metadata": {},
   "outputs": [],
   "source": [
    "#Labelframe for visual seperation of PCA and Clustermap \n",
    "label_frame = LabelFrame(root, text = \"Advanced insights:\", labelanchor = \"nw\")\n",
    "label_frame.grid(row=7, column=0, columnspan=3, padx=5, pady=5, sticky='ew') \n",
    "label_frame.columnconfigure(0, weight=1)  \n",
    "label_frame.columnconfigure(1, weight=1)  "
   ]
  },
  {
   "cell_type": "markdown",
   "id": "d204cf26-d001-48a0-bddf-ca469d569933",
   "metadata": {},
   "source": [
    "#### Clustermap widgets \n",
    "- button to trigger clustermap_from_gui() function\n",
    "- placed in extra labeframe"
   ]
  },
  {
   "cell_type": "code",
   "execution_count": null,
   "id": "61c9df35-8d37-4914-b721-528cf545ef41",
   "metadata": {},
   "outputs": [],
   "source": [
    "# Button to plot Clustermap\n",
    "clustermap_button = Button(label_frame, text=\"Plot Clustermap\", command=plot_clustermap_from_gui)\n",
    "clustermap_button.grid(row=0, column=0, padx=5, pady=5, sticky='ew') "
   ]
  },
  {
   "cell_type": "markdown",
   "id": "1c744ae0-4208-4e30-aa16-a57647a4593f",
   "metadata": {},
   "source": [
    "#### PCA widget\n",
    "- button to trigger pca_from_gui() function\n",
    "- placed in extra labelframe "
   ]
  },
  {
   "cell_type": "code",
   "execution_count": null,
   "id": "a8314a31-a472-4ef1-bfcc-83766d6c9a9b",
   "metadata": {},
   "outputs": [],
   "source": [
    "# Button to perform PCA\n",
    "pca_button = Button(label_frame, text=\"Perform PCA\", command=pca_analysis_from_gui)\n",
    "pca_button.grid(row=0, column=1, padx=5, pady=5, sticky='ew') "
   ]
  },
  {
   "cell_type": "markdown",
   "id": "5e8c57c7-71c8-4eea-9110-9f6bbed06448",
   "metadata": {},
   "source": [
    "## Starting GUI "
   ]
  },
  {
   "cell_type": "code",
   "execution_count": null,
   "id": "b9029bec-36b2-4bb6-8717-de648236eeeb",
   "metadata": {},
   "outputs": [],
   "source": [
    "# Start the GUI\n",
    "root.mainloop()"
   ]
  }
 ],
 "metadata": {
  "kernelspec": {
   "display_name": "Python 3 (ipykernel)",
   "language": "python",
   "name": "python3"
  },
  "language_info": {
   "codemirror_mode": {
    "name": "ipython",
    "version": 3
   },
   "file_extension": ".py",
   "mimetype": "text/x-python",
   "name": "python",
   "nbconvert_exporter": "python",
   "pygments_lexer": "ipython3",
   "version": "3.12.4"
  }
 },
 "nbformat": 4,
 "nbformat_minor": 5
}
